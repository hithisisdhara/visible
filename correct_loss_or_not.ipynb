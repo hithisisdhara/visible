{
 "cells": [
  {
   "cell_type": "code",
   "execution_count": 1,
   "metadata": {},
   "outputs": [],
   "source": [
    "import numpy as np\n",
    "import tensorflow as tf\n",
    "import scipy.sparse as sp\n",
    "tf.enable_eager_execution()"
   ]
  },
  {
   "cell_type": "code",
   "execution_count": 16,
   "metadata": {},
   "outputs": [],
   "source": [
    "adj = np.array([[50.0,0],[0,100.0]])\n",
    "recs = np.array([[0.3,0.4],[0.5,0.6]])"
   ]
  },
  {
   "cell_type": "code",
   "execution_count": 17,
   "metadata": {},
   "outputs": [
    {
     "name": "stdout",
     "output_type": "stream",
     "text": [
      "(array([0, 1], dtype=int32), array([0, 1], dtype=int32), array([ 50., 100.]))\n"
     ]
    }
   ],
   "source": [
    "orig_coo = sp.coo_matrix(adj)\n",
    "x_ind, y_ind, original = orig_coo.row, orig_coo.col, orig_coo.data \n",
    "print(x_ind, y_ind, original)\n",
    "inds = zip(x_ind, y_ind)"
   ]
  },
  {
   "cell_type": "code",
   "execution_count": 24,
   "metadata": {},
   "outputs": [
    {
     "name": "stdout",
     "output_type": "stream",
     "text": [
      "tf.Tensor([3.91202301 4.60517019], shape=(2,), dtype=float64)\n"
     ]
    }
   ],
   "source": [
    "logX = tf.log(original)\n",
    "print(logX)"
   ]
  },
  {
   "cell_type": "code",
   "execution_count": 22,
   "metadata": {},
   "outputs": [
    {
     "name": "stdout",
     "output_type": "stream",
     "text": [
      "tf.Tensor([0.3 0.6], shape=(2,), dtype=float64)\n"
     ]
    }
   ],
   "source": [
    "tmp1 = tf.gather_nd(recs,inds)\n",
    "print(tmp1)"
   ]
  },
  {
   "cell_type": "code",
   "execution_count": 23,
   "metadata": {},
   "outputs": [
    {
     "name": "stdout",
     "output_type": "stream",
     "text": [
      "tf.Tensor([-3.61202301 -4.00517019], shape=(2,), dtype=float64)\n"
     ]
    }
   ],
   "source": [
    "tmp2 = tf.subtract(tf.gather_nd(recs,inds),logX)\n",
    "print(tmp2)"
   ]
  },
  {
   "cell_type": "code",
   "execution_count": 25,
   "metadata": {},
   "outputs": [
    {
     "name": "stdout",
     "output_type": "stream",
     "text": [
      "tf.Tensor([13.04671019 16.04138822], shape=(2,), dtype=float64)\n"
     ]
    }
   ],
   "source": [
    "tmp3 = tf.square(tmp2)\n",
    "print(tmp3)"
   ]
  },
  {
   "cell_type": "code",
   "execution_count": 27,
   "metadata": {},
   "outputs": [
    {
     "data": {
      "text/plain": [
       "<tf.Tensor: id=83, shape=(2,), dtype=float64, numpy=array([0.59460356, 1.        ])>"
      ]
     },
     "execution_count": 27,
     "metadata": {},
     "output_type": "execute_result"
    }
   ],
   "source": [
    "fX = tf.pow(tf.clip_by_value(tf.divide(original, 100), 0,1), 0.75)\n",
    "fX"
   ]
  },
  {
   "cell_type": "code",
   "execution_count": 26,
   "metadata": {},
   "outputs": [
    {
     "name": "stdout",
     "output_type": "stream",
     "text": [
      "tf.Tensor([ 7.75762029 16.04138822], shape=(2,), dtype=float64)\n"
     ]
    }
   ],
   "source": [
    "tmp4 = tf.multiply(tmp3,fX)\n",
    "print(tmp4)"
   ]
  },
  {
   "cell_type": "code",
   "execution_count": 28,
   "metadata": {},
   "outputs": [
    {
     "data": {
      "text/plain": [
       "<tf.Tensor: id=86, shape=(), dtype=float64, numpy=11.899504256213522>"
      ]
     },
     "execution_count": 28,
     "metadata": {},
     "output_type": "execute_result"
    }
   ],
   "source": [
    "tmp5 = tf.reduce_mean(tmp4)\n",
    "tmp5"
   ]
  },
  {
   "cell_type": "code",
   "execution_count": 20,
   "metadata": {},
   "outputs": [
    {
     "data": {
      "text/plain": [
       "<tf.Tensor: id=55, shape=(), dtype=float64, numpy=11.899504256213522>"
      ]
     },
     "execution_count": 20,
     "metadata": {},
     "output_type": "execute_result"
    }
   ],
   "source": [
    "tf.reduce_mean(tf.multiply(tf.square(tf.subtract(tf.gather_nd(recs,inds),logX)),fX))\n"
   ]
  },
  {
   "cell_type": "code",
   "execution_count": null,
   "metadata": {},
   "outputs": [],
   "source": []
  }
 ],
 "metadata": {
  "kernelspec": {
   "display_name": "Python 2",
   "language": "python",
   "name": "python2"
  },
  "language_info": {
   "codemirror_mode": {
    "name": "ipython",
    "version": 2
   },
   "file_extension": ".py",
   "mimetype": "text/x-python",
   "name": "python",
   "nbconvert_exporter": "python",
   "pygments_lexer": "ipython2",
   "version": "2.7.12"
  }
 },
 "nbformat": 4,
 "nbformat_minor": 2
}
